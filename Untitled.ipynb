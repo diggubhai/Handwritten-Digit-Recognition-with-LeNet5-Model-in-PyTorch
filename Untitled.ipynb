{
 "cells": [
  {
   "cell_type": "code",
   "execution_count": 2,
   "id": "f06abafe-d993-4a7e-bf30-ca57fa7a55fc",
   "metadata": {},
   "outputs": [],
   "source": [
    "import pandas as pd\n",
    "import numpy as np"
   ]
  },
  {
   "cell_type": "code",
   "execution_count": 8,
   "id": "30acf818-773b-4d22-a3c7-490ed1cc9551",
   "metadata": {
    "scrolled": true
   },
   "outputs": [],
   "source": [
    "# Load the CSV files\n",
    "train_data = pd.read_csv(r\"C:\\Users\\asus\\Downloads\\HandWriting Project\\mnist_train\\mnist_train.csv\")\n",
    "test_data = pd.read_csv(r\"C:\\Users\\asus\\Downloads\\HandWriting Project\\mnist_test\\mnist_test.csv\")\n"
   ]
  },
  {
   "cell_type": "code",
   "execution_count": 9,
   "id": "88dd63a2-5304-4195-93cb-6cf80e05bc26",
   "metadata": {},
   "outputs": [],
   "source": [
    "# Separate features and labels\n",
    "x_train = train_data.drop('label', axis=1).values\n",
    "y_train = train_data['label'].values"
   ]
  },
  {
   "cell_type": "code",
   "execution_count": 10,
   "id": "2c62b387-c981-437d-ab71-9ccb11024572",
   "metadata": {},
   "outputs": [],
   "source": [
    "x_test = test_data.drop('label', axis=1).values\n",
    "y_test = test_data['label'].values"
   ]
  },
  {
   "cell_type": "code",
   "execution_count": 11,
   "id": "51ca3b9f-2be7-4556-b297-2e250b37a01c",
   "metadata": {},
   "outputs": [],
   "source": [
    "# Reshape the data to its original shape (28x28) if needed (e.g., for convolutional neural networks)\n",
    "x_train = x_train.reshape(-1, 28, 28, 1)\n",
    "x_test = x_test.reshape(-1, 28, 28, 1)"
   ]
  },
  {
   "cell_type": "code",
   "execution_count": 12,
   "id": "07cb70a3-aa01-4e08-904b-1ddb0c02ea2d",
   "metadata": {},
   "outputs": [
    {
     "name": "stdout",
     "output_type": "stream",
     "text": [
      "Training data shape: (60000, 28, 28, 1)\n",
      "Test data shape: (10000, 28, 28, 1)\n",
      "MNIST dataset loaded from CSV files successfully.\n"
     ]
    }
   ],
   "source": [
    "print(\"Training data shape:\", x_train.shape)\n",
    "print(\"Test data shape:\", x_test.shape)\n",
    "print(\"MNIST dataset loaded from CSV files successfully.\")"
   ]
  },
  {
   "cell_type": "code",
   "execution_count": null,
   "id": "7cf133bb-9690-4ceb-8271-17a77cf01d82",
   "metadata": {},
   "outputs": [],
   "source": []
  }
 ],
 "metadata": {
  "kernelspec": {
   "display_name": "Python 3 (ipykernel)",
   "language": "python",
   "name": "python3"
  },
  "language_info": {
   "codemirror_mode": {
    "name": "ipython",
    "version": 3
   },
   "file_extension": ".py",
   "mimetype": "text/x-python",
   "name": "python",
   "nbconvert_exporter": "python",
   "pygments_lexer": "ipython3",
   "version": "3.11.7"
  }
 },
 "nbformat": 4,
 "nbformat_minor": 5
}
